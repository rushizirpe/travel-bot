{
  "nbformat": 4,
  "nbformat_minor": 0,
  "metadata": {
    "colab": {
      "name": "IntentClassification.ipynb",
      "provenance": []
    },
    "kernelspec": {
      "name": "python3",
      "display_name": "Python 3"
    },
    "language_info": {
      "name": "python"
    }
  },
  "cells": [
    {
      "cell_type": "code",
      "execution_count": null,
      "metadata": {
        "id": "GgN-xy5nbULH"
      },
      "outputs": [],
      "source": [
        "import pandas as pd\n",
        "import numpy as np\n",
        "import nltk"
      ]
    },
    {
      "cell_type": "code",
      "source": [
        "df = pd.read_csv('f3.csv')"
      ],
      "metadata": {
        "id": "A8SC2EpzbXLk"
      },
      "execution_count": null,
      "outputs": []
    },
    {
      "cell_type": "code",
      "source": [
        "df.head()"
      ],
      "metadata": {
        "colab": {
          "base_uri": "https://localhost:8080/",
          "height": 206
        },
        "id": "5eKqvswMbmW8",
        "outputId": "7ab4b28d-3647-4560-a895-5f4eb6d99738"
      },
      "execution_count": null,
      "outputs": [
        {
          "output_type": "execute_result",
          "data": {
            "text/plain": [
              "                                            X      Y  Class\n",
              "0                                 Book Hotel   Hotel    NaN\n",
              "1                        I want to book hotel  Hotel    NaN\n",
              "2                  Help me with hotel booking  Hotel    NaN\n",
              "3                  I was searching for hotels  Hotel    NaN\n",
              "4  I think you can help me with Hotel booking  Hotel    NaN"
            ],
            "text/html": [
              "\n",
              "  <div id=\"df-681c55d6-4d7f-40a9-9107-21ce9b454d3d\">\n",
              "    <div class=\"colab-df-container\">\n",
              "      <div>\n",
              "<style scoped>\n",
              "    .dataframe tbody tr th:only-of-type {\n",
              "        vertical-align: middle;\n",
              "    }\n",
              "\n",
              "    .dataframe tbody tr th {\n",
              "        vertical-align: top;\n",
              "    }\n",
              "\n",
              "    .dataframe thead th {\n",
              "        text-align: right;\n",
              "    }\n",
              "</style>\n",
              "<table border=\"1\" class=\"dataframe\">\n",
              "  <thead>\n",
              "    <tr style=\"text-align: right;\">\n",
              "      <th></th>\n",
              "      <th>X</th>\n",
              "      <th>Y</th>\n",
              "      <th>Class</th>\n",
              "    </tr>\n",
              "  </thead>\n",
              "  <tbody>\n",
              "    <tr>\n",
              "      <th>0</th>\n",
              "      <td>Book Hotel</td>\n",
              "      <td>Hotel</td>\n",
              "      <td>NaN</td>\n",
              "    </tr>\n",
              "    <tr>\n",
              "      <th>1</th>\n",
              "      <td>I want to book hotel</td>\n",
              "      <td>Hotel</td>\n",
              "      <td>NaN</td>\n",
              "    </tr>\n",
              "    <tr>\n",
              "      <th>2</th>\n",
              "      <td>Help me with hotel booking</td>\n",
              "      <td>Hotel</td>\n",
              "      <td>NaN</td>\n",
              "    </tr>\n",
              "    <tr>\n",
              "      <th>3</th>\n",
              "      <td>I was searching for hotels</td>\n",
              "      <td>Hotel</td>\n",
              "      <td>NaN</td>\n",
              "    </tr>\n",
              "    <tr>\n",
              "      <th>4</th>\n",
              "      <td>I think you can help me with Hotel booking</td>\n",
              "      <td>Hotel</td>\n",
              "      <td>NaN</td>\n",
              "    </tr>\n",
              "  </tbody>\n",
              "</table>\n",
              "</div>\n",
              "      <button class=\"colab-df-convert\" onclick=\"convertToInteractive('df-681c55d6-4d7f-40a9-9107-21ce9b454d3d')\"\n",
              "              title=\"Convert this dataframe to an interactive table.\"\n",
              "              style=\"display:none;\">\n",
              "        \n",
              "  <svg xmlns=\"http://www.w3.org/2000/svg\" height=\"24px\"viewBox=\"0 0 24 24\"\n",
              "       width=\"24px\">\n",
              "    <path d=\"M0 0h24v24H0V0z\" fill=\"none\"/>\n",
              "    <path d=\"M18.56 5.44l.94 2.06.94-2.06 2.06-.94-2.06-.94-.94-2.06-.94 2.06-2.06.94zm-11 1L8.5 8.5l.94-2.06 2.06-.94-2.06-.94L8.5 2.5l-.94 2.06-2.06.94zm10 10l.94 2.06.94-2.06 2.06-.94-2.06-.94-.94-2.06-.94 2.06-2.06.94z\"/><path d=\"M17.41 7.96l-1.37-1.37c-.4-.4-.92-.59-1.43-.59-.52 0-1.04.2-1.43.59L10.3 9.45l-7.72 7.72c-.78.78-.78 2.05 0 2.83L4 21.41c.39.39.9.59 1.41.59.51 0 1.02-.2 1.41-.59l7.78-7.78 2.81-2.81c.8-.78.8-2.07 0-2.86zM5.41 20L4 18.59l7.72-7.72 1.47 1.35L5.41 20z\"/>\n",
              "  </svg>\n",
              "      </button>\n",
              "      \n",
              "  <style>\n",
              "    .colab-df-container {\n",
              "      display:flex;\n",
              "      flex-wrap:wrap;\n",
              "      gap: 12px;\n",
              "    }\n",
              "\n",
              "    .colab-df-convert {\n",
              "      background-color: #E8F0FE;\n",
              "      border: none;\n",
              "      border-radius: 50%;\n",
              "      cursor: pointer;\n",
              "      display: none;\n",
              "      fill: #1967D2;\n",
              "      height: 32px;\n",
              "      padding: 0 0 0 0;\n",
              "      width: 32px;\n",
              "    }\n",
              "\n",
              "    .colab-df-convert:hover {\n",
              "      background-color: #E2EBFA;\n",
              "      box-shadow: 0px 1px 2px rgba(60, 64, 67, 0.3), 0px 1px 3px 1px rgba(60, 64, 67, 0.15);\n",
              "      fill: #174EA6;\n",
              "    }\n",
              "\n",
              "    [theme=dark] .colab-df-convert {\n",
              "      background-color: #3B4455;\n",
              "      fill: #D2E3FC;\n",
              "    }\n",
              "\n",
              "    [theme=dark] .colab-df-convert:hover {\n",
              "      background-color: #434B5C;\n",
              "      box-shadow: 0px 1px 3px 1px rgba(0, 0, 0, 0.15);\n",
              "      filter: drop-shadow(0px 1px 2px rgba(0, 0, 0, 0.3));\n",
              "      fill: #FFFFFF;\n",
              "    }\n",
              "  </style>\n",
              "\n",
              "      <script>\n",
              "        const buttonEl =\n",
              "          document.querySelector('#df-681c55d6-4d7f-40a9-9107-21ce9b454d3d button.colab-df-convert');\n",
              "        buttonEl.style.display =\n",
              "          google.colab.kernel.accessAllowed ? 'block' : 'none';\n",
              "\n",
              "        async function convertToInteractive(key) {\n",
              "          const element = document.querySelector('#df-681c55d6-4d7f-40a9-9107-21ce9b454d3d');\n",
              "          const dataTable =\n",
              "            await google.colab.kernel.invokeFunction('convertToInteractive',\n",
              "                                                     [key], {});\n",
              "          if (!dataTable) return;\n",
              "\n",
              "          const docLinkHtml = 'Like what you see? Visit the ' +\n",
              "            '<a target=\"_blank\" href=https://colab.research.google.com/notebooks/data_table.ipynb>data table notebook</a>'\n",
              "            + ' to learn more about interactive tables.';\n",
              "          element.innerHTML = '';\n",
              "          dataTable['output_type'] = 'display_data';\n",
              "          await google.colab.output.renderOutput(dataTable, element);\n",
              "          const docLink = document.createElement('div');\n",
              "          docLink.innerHTML = docLinkHtml;\n",
              "          element.appendChild(docLink);\n",
              "        }\n",
              "      </script>\n",
              "    </div>\n",
              "  </div>\n",
              "  "
            ]
          },
          "metadata": {},
          "execution_count": 3
        }
      ]
    },
    {
      "cell_type": "code",
      "source": [
        "sentences = df['X']"
      ],
      "metadata": {
        "id": "4CrKA1cFboEM"
      },
      "execution_count": null,
      "outputs": []
    },
    {
      "cell_type": "code",
      "source": [
        "from nltk.corpus import stopwords\n",
        "nltk.download('stopwords')\n",
        "nltk.download('wordnet')\n",
        "nltk.download('punkt')"
      ],
      "metadata": {
        "colab": {
          "base_uri": "https://localhost:8080/"
        },
        "id": "WT7elR8BcOsU",
        "outputId": "7c3fab01-8d76-444a-9429-76a7eb840882"
      },
      "execution_count": null,
      "outputs": [
        {
          "output_type": "stream",
          "name": "stdout",
          "text": [
            "[nltk_data] Downloading package stopwords to /root/nltk_data...\n",
            "[nltk_data]   Package stopwords is already up-to-date!\n",
            "[nltk_data] Downloading package wordnet to /root/nltk_data...\n",
            "[nltk_data]   Package wordnet is already up-to-date!\n",
            "[nltk_data] Downloading package punkt to /root/nltk_data...\n",
            "[nltk_data]   Unzipping tokenizers/punkt.zip.\n"
          ]
        },
        {
          "output_type": "execute_result",
          "data": {
            "text/plain": [
              "True"
            ]
          },
          "metadata": {},
          "execution_count": 6
        }
      ]
    },
    {
      "cell_type": "code",
      "source": [
        "STOPWORDS = set(stopwords.words('english'))\n",
        "def remove_stopwords(text):\n",
        "    \"\"\"custom function to remove the stopwords\"\"\"\n",
        "    return \" \".join([word for word in str(text).split() if word not in STOPWORDS])\n",
        "\n",
        "sentences = sentences.apply(lambda text: remove_stopwords(text.lower()))\n",
        "sentences.head()"
      ],
      "metadata": {
        "colab": {
          "base_uri": "https://localhost:8080/"
        },
        "id": "5knmI0ctckEO",
        "outputId": "f2c84849-80df-413b-bcbe-3091e76b336a"
      },
      "execution_count": null,
      "outputs": [
        {
          "output_type": "execute_result",
          "data": {
            "text/plain": [
              "0                  book hotel\n",
              "1             want book hotel\n",
              "2          help hotel booking\n",
              "3          wa searching hotel\n",
              "4    think help hotel booking\n",
              "Name: X, dtype: object"
            ]
          },
          "metadata": {},
          "execution_count": 69
        }
      ]
    },
    {
      "cell_type": "code",
      "source": [
        "from nltk.stem import WordNetLemmatizer\n",
        "\n",
        "lemmatizer = WordNetLemmatizer()\n",
        "def lemmatize_words(text):\n",
        "    return \" \".join([lemmatizer.lemmatize(word) for word in text.split()])\n",
        "\n",
        "sentences = sentences.apply(lambda text: lemmatize_words(text))\n",
        "sentences.head()"
      ],
      "metadata": {
        "id": "8zgmDxDv7zeg",
        "colab": {
          "base_uri": "https://localhost:8080/"
        },
        "outputId": "6edc8287-d880-4fd3-b5f6-9feb3a910c23"
      },
      "execution_count": null,
      "outputs": [
        {
          "output_type": "execute_result",
          "data": {
            "text/plain": [
              "0                  book hotel\n",
              "1             want book hotel\n",
              "2          help hotel booking\n",
              "3          wa searching hotel\n",
              "4    think help hotel booking\n",
              "Name: X, dtype: object"
            ]
          },
          "metadata": {},
          "execution_count": 70
        }
      ]
    },
    {
      "cell_type": "code",
      "source": [
        "bow = {}\n",
        "i = 1\n",
        "for row in sentences:\n",
        "  for word in row.split(\" \"):\n",
        "    if word not in bow:\n",
        "      bow[word] = i\n",
        "      i += 1    "
      ],
      "metadata": {
        "id": "1396j4ZYc-ZS"
      },
      "execution_count": null,
      "outputs": []
    },
    {
      "cell_type": "code",
      "source": [
        "X = []\n",
        "for i in sentences:\n",
        "  X.append(nltk.word_tokenize(i))"
      ],
      "metadata": {
        "id": "GmkkxrJt96V_"
      },
      "execution_count": null,
      "outputs": []
    },
    {
      "cell_type": "code",
      "source": [
        "X"
      ],
      "metadata": {
        "colab": {
          "base_uri": "https://localhost:8080/"
        },
        "id": "XJlZxem9-KEW",
        "outputId": "579ec005-8746-47e5-b532-d783b5434886"
      },
      "execution_count": null,
      "outputs": [
        {
          "output_type": "execute_result",
          "data": {
            "text/plain": [
              "[['book', 'hotel'],\n",
              " ['want', 'book', 'hotel'],\n",
              " ['help', 'hotel', 'booking'],\n",
              " ['wa', 'searching', 'hotel'],\n",
              " ['think', 'help', 'hotel', 'booking'],\n",
              " ['show', 'hotel'],\n",
              " ['recomment', 'good', 'hotel'],\n",
              " ['want', 'plan', 'iternary', 'pune'],\n",
              " ['budget', '5000', 'per', 'person'],\n",
              " ['want', 'adventurous', 'activity'],\n",
              " ['want', 'go', 'family'],\n",
              " ['spend', 'k', 'rupee'],\n",
              " ['want', 'visit', 'historic', 'place', 'pune'],\n",
              " ['one', 'day', 'trip'],\n",
              " ['want', 'spend', 'whole', 'weekend'],\n",
              " ['place', 'visited', 'pune', 'one', 'day'],\n",
              " ['adventurous', 'place', 'done', 'pune'],\n",
              " ['historic', 'place', 'visited'],\n",
              " ['historic', 'place', 'one', 'day'],\n",
              " ['place', 'like', 'shanirwada'],\n",
              " ['please', 'help', 'hotel', 'booking'],\n",
              " ['hotel'],\n",
              " ['wa', 'looking', 'place', 'stay'],\n",
              " ['hotel', 'booking', 'today'],\n",
              " ['hey', 'look', 'flight'],\n",
              " ['one', 'day', 'trip', 'imagica'],\n",
              " ['low', 'budget', 'around', '5k'],\n",
              " ['please', 'help', 'flight', 'booking'],\n",
              " ['need', 'help', 'flight', 'booking'],\n",
              " ['booking'],\n",
              " ['flight'],\n",
              " ['hey', 'look', 'hotel'],\n",
              " ['would', 'help', 'finding', 'hotel', 'today'],\n",
              " ['really', 'want', 'help', 'finding', 'hotel'],\n",
              " ['please', 'recommend', 'flight', 'pune', 'delhi'],\n",
              " ['flight', 'delhi', 'pune'],\n",
              " ['flight', 'pune', 'kolkata'],\n",
              " ['recommend', 'flight'],\n",
              " ['flight', '10k'],\n",
              " ['flight', '5k'],\n",
              " ['one', 'day', 'trip', 'pune', 'historical', 'place'],\n",
              " ['best', 'plan', 'friend'],\n",
              " ['wa', 'hoping', 'find', 'flight'],\n",
              " ['get', 'flight'],\n",
              " ['flight', 'available'],\n",
              " ['please', 'recommend', 'flight', 'weekend'],\n",
              " ['flight', 'economy', 'class'],\n",
              " ['want', 'flight', 'moderate', 'rate'],\n",
              " ['one', 'day', 'flight'],\n",
              " ['looking', 'two', 'star', 'hotel'],\n",
              " ['looking', 'one', 'star', 'hotel'],\n",
              " ['looking', 'hotel'],\n",
              " ['looking', '4/5', 'star', 'hotel'],\n",
              " ['want', 'plan', 'trip', 'family', 'one', 'day'],\n",
              " ['want', 'plan', 'trip', 'family', 'one', 'day', 'adventure'],\n",
              " ['want', 'plan', 'trip', 'family', 'one', 'day', 'historic', 'place'],\n",
              " ['want', 'plan', 'trip', 'friend', 'one', 'day'],\n",
              " ['want', 'plan', 'trip', 'friend', 'one', 'day', 'adventure'],\n",
              " ['want', 'plan', 'trip', 'friend', 'one', 'day', 'historic', 'place'],\n",
              " ['planning', 'adventurous', 'activity', 'family'],\n",
              " ['want', 'plan', 'trip', 'sight', 'seeing'],\n",
              " ['want', 'plan', 'visit', 'hill', 'station', 'nearby'],\n",
              " ['want', 'help', 'planning', 'trip', 'away', 'city'],\n",
              " ['hi', 'wanted', 'plan', 'one', 'day', 'tour', 'pune'],\n",
              " ['want', 'book', 'hotel', 'parking'],\n",
              " ['trekking', 'plan', 'one', 'day'],\n",
              " ['overnight', 'lake', 'camping'],\n",
              " ['hi', 'planning', 'tour', 'pune', 'weekend'],\n",
              " ['actually', 'wa', 'looking', 'adventure'],\n",
              " ['actually', 'vested', 'historic', 'pune'],\n",
              " ['heard', 'best', 'theme', 'park', 'pune', ',', 'would', 'plan', 'tour'],\n",
              " ['would', 'good', 'visit', 'good', 'hotel'],\n",
              " ['wa', 'looking', 'hotel', 'weekend'],\n",
              " ['planning', 'relaxing', 'visit', 'hotel'],\n",
              " ['wa', 'thinking', 'hotel', 'good', 'scenic', 'view'],\n",
              " ['would', 'best', 'plan', 'one', 'day', 'family'],\n",
              " ['would', 'best', 'plan', 'one', 'day', 'friend'],\n",
              " ['please', 'suggest', 'good', 'adventure', 'activity'],\n",
              " ['want', 'relieve', 'historic', 'monument'],\n",
              " ['want', 'complete', 'two', 'day', 'plan', 'pune'],\n",
              " ['want', 'relaxing', 'weekend', 'pune'],\n",
              " ['want', 'budget', 'friendly', 'one', 'day', 'trip'],\n",
              " ['trekking', 'pune'],\n",
              " ['want', 'plan', 'trekking', 'friend'],\n",
              " ['looking', 'trek', 'friend'],\n",
              " ['wa', 'looking', 'flight', 'going', 'back'],\n",
              " ['prefer', 'flight', 'travelling'],\n",
              " ['prefer', 'flight'],\n",
              " ['thanks', 'look', 'flight'],\n",
              " ['sorry', 'wa', 'looking', 'hotel'],\n",
              " ['recommend', 'place', 'stay'],\n",
              " ['best', 'historic', 'place', 'visited', 'pune'],\n",
              " ['best', 'adventure', 'activity'],\n",
              " ['sight', 'seeing', 'place', 'pune'],\n",
              " ['adventure', 'pune'],\n",
              " ['historical', 'monument', 'pune'],\n",
              " ['best', 'one', 'day', 'plan'],\n",
              " ['best', 'weekend', 'plan'],\n",
              " ['best', 'friend', 'plan'],\n",
              " ['want', 'full', 'plan', 'visiting', 'pune']]"
            ]
          },
          "metadata": {},
          "execution_count": 73
        }
      ]
    },
    {
      "cell_type": "code",
      "source": [
        "bow"
      ],
      "metadata": {
        "colab": {
          "base_uri": "https://localhost:8080/"
        },
        "id": "3MYFQRCs8kJF",
        "outputId": "0b5c0a42-f9c0-45ba-c90d-c06df91be55f"
      },
      "execution_count": null,
      "outputs": [
        {
          "output_type": "execute_result",
          "data": {
            "text/plain": [
              "{'10k': 56,\n",
              " '4/5': 70,\n",
              " '5000': 16,\n",
              " '5k': 48,\n",
              " 'activity': 20,\n",
              " 'actually': 88,\n",
              " 'adventure': 71,\n",
              " 'adventurous': 19,\n",
              " 'around': 47,\n",
              " 'available': 63,\n",
              " 'away': 78,\n",
              " 'back': 105,\n",
              " 'best': 58,\n",
              " 'book': 1,\n",
              " 'booking': 5,\n",
              " 'budget': 15,\n",
              " 'camping': 87,\n",
              " 'city': 79,\n",
              " 'class': 65,\n",
              " 'complete': 101,\n",
              " 'day': 30,\n",
              " 'delhi': 54,\n",
              " 'done': 35,\n",
              " 'economy': 64,\n",
              " 'family': 22,\n",
              " 'find': 61,\n",
              " 'finding': 51,\n",
              " 'flight': 44,\n",
              " 'friend': 59,\n",
              " 'friendly': 102,\n",
              " 'full': 110,\n",
              " 'get': 62,\n",
              " 'go': 21,\n",
              " 'going': 104,\n",
              " 'good': 11,\n",
              " 'heard': 90,\n",
              " 'help': 4,\n",
              " 'hey': 42,\n",
              " 'hi': 80,\n",
              " 'hill': 75,\n",
              " 'historic': 27,\n",
              " 'historical': 57,\n",
              " 'hoping': 60,\n",
              " 'hotel': 2,\n",
              " 'imagica': 45,\n",
              " 'iternary': 13,\n",
              " 'k': 24,\n",
              " 'kolkata': 55,\n",
              " 'lake': 86,\n",
              " 'like': 36,\n",
              " 'look': 43,\n",
              " 'looking': 39,\n",
              " 'low': 46,\n",
              " 'moderate': 66,\n",
              " 'monument': 100,\n",
              " 'nearby': 77,\n",
              " 'need': 49,\n",
              " 'one': 29,\n",
              " 'overnight': 85,\n",
              " 'park': 92,\n",
              " 'parking': 83,\n",
              " 'per': 17,\n",
              " 'person': 18,\n",
              " 'place': 28,\n",
              " 'plan': 12,\n",
              " 'planning': 72,\n",
              " 'please': 38,\n",
              " 'prefer': 106,\n",
              " 'pune': 14,\n",
              " 'pune,': 93,\n",
              " 'rate': 67,\n",
              " 'really': 52,\n",
              " 'recommend': 53,\n",
              " 'recomment': 10,\n",
              " 'relaxing': 94,\n",
              " 'relieve': 99,\n",
              " 'rupee': 25,\n",
              " 'scenic': 96,\n",
              " 'searching': 7,\n",
              " 'seeing': 74,\n",
              " 'shanirwada': 37,\n",
              " 'show': 9,\n",
              " 'sight': 73,\n",
              " 'sorry': 109,\n",
              " 'spend': 23,\n",
              " 'star': 69,\n",
              " 'station': 76,\n",
              " 'stay': 40,\n",
              " 'suggest': 98,\n",
              " 'thanks': 108,\n",
              " 'theme': 91,\n",
              " 'think': 8,\n",
              " 'thinking': 95,\n",
              " 'today': 41,\n",
              " 'tour': 82,\n",
              " 'travelling': 107,\n",
              " 'trek': 103,\n",
              " 'trekking': 84,\n",
              " 'trip': 31,\n",
              " 'two': 68,\n",
              " 'vested': 89,\n",
              " 'view': 97,\n",
              " 'visit': 26,\n",
              " 'visited': 34,\n",
              " 'visiting': 111,\n",
              " 'wa': 6,\n",
              " 'want': 3,\n",
              " 'wanted': 81,\n",
              " 'weekend': 33,\n",
              " 'whole': 32,\n",
              " 'would': 50}"
            ]
          },
          "metadata": {},
          "execution_count": 74
        }
      ]
    },
    {
      "cell_type": "code",
      "source": [
        "bow = {'10k': 56,\n",
        " '4/5': 70,\n",
        " '5000': 16,\n",
        " '5k': 48,\n",
        " 'activity': 20,\n",
        " 'actually': 88,\n",
        " 'adventure': 71,\n",
        " 'adventurous': 19,\n",
        " 'around': 47,\n",
        " 'available': 63,\n",
        " 'away': 78,\n",
        " 'back': 105,\n",
        " 'best': 58,\n",
        " 'book': 1,\n",
        " 'booking': 5,\n",
        " 'budget': 15,\n",
        " 'camping': 87,\n",
        " 'city': 79,\n",
        " 'class': 65,\n",
        " 'complete': 101,\n",
        " 'day': 30,\n",
        " 'delhi': 54,\n",
        " 'done': 35,\n",
        " 'economy': 64,\n",
        " 'family': 22,\n",
        " 'find': 61,\n",
        " 'finding': 51,\n",
        " 'flight': 44,\n",
        " 'friend': 59,\n",
        " 'friendly': 102,\n",
        " 'full': 110,\n",
        " 'get': 62,\n",
        " 'go': 21,\n",
        " 'going': 104,\n",
        " 'good': 11,\n",
        " 'heard': 90,\n",
        " 'help': 4,\n",
        " 'hey': 42,\n",
        " 'hi': 80,\n",
        " 'hill': 75,\n",
        " 'historic': 27,\n",
        " 'historical': 57,\n",
        " 'hoping': 60,\n",
        " 'hotel': 2,\n",
        " 'imagica': 45,\n",
        " 'iternary': 13,\n",
        " 'k': 24,\n",
        " 'kolkata': 55,\n",
        " 'lake': 86,\n",
        " 'like': 36,\n",
        " 'look': 43,\n",
        " 'looking': 39,\n",
        " 'low': 46,\n",
        " 'moderate': 66,\n",
        " 'monument': 100,\n",
        " 'nearby': 77,\n",
        " 'need': 49,\n",
        " 'one': 29,\n",
        " 'overnight': 85,\n",
        " 'park': 92,\n",
        " 'parking': 83,\n",
        " 'per': 17,\n",
        " 'person': 18,\n",
        " 'place': 28,\n",
        " 'plan': 12,\n",
        " 'planning': 72,\n",
        " 'please': 38,\n",
        " 'prefer': 106,\n",
        " 'pune': 14,\n",
        " 'pune,': 93,\n",
        " 'rate': 67,\n",
        " 'really': 52,\n",
        " 'recommend': 53,\n",
        " 'recomment': 10,\n",
        " 'relaxing': 94,\n",
        " 'relieve': 99,\n",
        " 'rupee': 25,\n",
        " 'scenic': 96,\n",
        " 'searching': 7,\n",
        " 'seeing': 74,\n",
        " 'shanirwada': 37,\n",
        " 'show': 9,\n",
        " 'sight': 73,\n",
        " 'sorry': 109,\n",
        " 'spend': 23,\n",
        " 'star': 69,\n",
        " 'station': 76,\n",
        " 'stay': 40,\n",
        " 'suggest': 98,\n",
        " 'thanks': 108,\n",
        " 'theme': 91,\n",
        " 'think': 8,\n",
        " 'thinking': 95,\n",
        " 'today': 41,\n",
        " 'tour': 82,\n",
        " 'travelling': 107,\n",
        " 'trek': 103,\n",
        " 'trekking': 84,\n",
        " 'trip': 31,\n",
        " 'two': 68,\n",
        " 'vested': 89,\n",
        " 'view': 97,\n",
        " 'visit': 26,\n",
        " 'visited': 34,\n",
        " 'visiting': 111,\n",
        " 'wa': 6,\n",
        " 'want': 3,\n",
        " 'wanted': 81,\n",
        " 'weekend': 33,\n",
        " 'whole': 32,\n",
        " 'would': 50}"
      ],
      "metadata": {
        "id": "n51e76t32cBV"
      },
      "execution_count": null,
      "outputs": []
    },
    {
      "cell_type": "code",
      "source": [
        "import pickle"
      ],
      "metadata": {
        "id": "Zat4dW652htT"
      },
      "execution_count": null,
      "outputs": []
    },
    {
      "cell_type": "code",
      "source": [
        "with open('bow.pickle', 'wb') as file:\n",
        "  pickle.dump(bow, file, protocol=pickle.HIGHEST_PROTOCOL)"
      ],
      "metadata": {
        "id": "dKM8n_Ax2kIw"
      },
      "execution_count": null,
      "outputs": []
    },
    {
      "cell_type": "code",
      "source": [
        "classes = {\n",
        "    \"Hotel\":0,\n",
        "    \"Flights\":1,\n",
        "    \"Iterarnary\":2\n",
        "}\n",
        "\n",
        "# Mapping the classes\n",
        "df['Class'] = df['Y'].map(classes)"
      ],
      "metadata": {
        "id": "aAhxZoxDeK5w"
      },
      "execution_count": null,
      "outputs": []
    },
    {
      "cell_type": "code",
      "source": [
        "labels = df['Class']"
      ],
      "metadata": {
        "id": "6A2Wj4QS82WO"
      },
      "execution_count": null,
      "outputs": []
    },
    {
      "cell_type": "code",
      "source": [
        "labels"
      ],
      "metadata": {
        "colab": {
          "base_uri": "https://localhost:8080/"
        },
        "id": "j2wWKqvg86iY",
        "outputId": "6c56b9b9-0b34-48e7-a54d-3738b553fe19"
      },
      "execution_count": null,
      "outputs": [
        {
          "output_type": "execute_result",
          "data": {
            "text/plain": [
              "0     0\n",
              "1     0\n",
              "2     0\n",
              "3     0\n",
              "4     0\n",
              "     ..\n",
              "95    2\n",
              "96    2\n",
              "97    2\n",
              "98    2\n",
              "99    2\n",
              "Name: Class, Length: 100, dtype: int64"
            ]
          },
          "metadata": {},
          "execution_count": 27
        }
      ]
    },
    {
      "cell_type": "code",
      "source": [
        "sentences"
      ],
      "metadata": {
        "colab": {
          "base_uri": "https://localhost:8080/"
        },
        "id": "pAFpXYpR874H",
        "outputId": "7f66c8a8-8fc8-4a17-c495-b1a53ab16848"
      },
      "execution_count": null,
      "outputs": [
        {
          "output_type": "execute_result",
          "data": {
            "text/plain": [
              "0                       book hotel\n",
              "1                  want book hotel\n",
              "2               help hotel booking\n",
              "3               wa searching hotel\n",
              "4         think help hotel booking\n",
              "                  ...             \n",
              "95        historical monument pune\n",
              "96               best one day plan\n",
              "97               best weekend plan\n",
              "98                best friend plan\n",
              "99    want full plan visiting pune\n",
              "Name: X, Length: 100, dtype: object"
            ]
          },
          "metadata": {},
          "execution_count": 75
        }
      ]
    },
    {
      "cell_type": "code",
      "source": [
        "trainData = []\n",
        "for i in X:\n",
        "  temp = []\n",
        "  for word in i:\n",
        "    if word in bow:\n",
        "      a = bow.get(word)\n",
        "      temp.append(a)\n",
        "  trainData.append(temp)"
      ],
      "metadata": {
        "id": "oerT8pMe9N9y"
      },
      "execution_count": null,
      "outputs": []
    },
    {
      "cell_type": "code",
      "source": [
        "trainData"
      ],
      "metadata": {
        "colab": {
          "base_uri": "https://localhost:8080/"
        },
        "id": "omuigC5pA4_Q",
        "outputId": "20810e9b-aa6a-47bf-da20-51d812ac9fc6"
      },
      "execution_count": null,
      "outputs": [
        {
          "output_type": "execute_result",
          "data": {
            "text/plain": [
              "[[1, 2],\n",
              " [3, 1, 2],\n",
              " [4, 2, 5],\n",
              " [6, 7, 2],\n",
              " [8, 4, 2, 5],\n",
              " [9, 2],\n",
              " [10, 11, 2],\n",
              " [3, 12, 13, 14],\n",
              " [15, 16, 17, 18],\n",
              " [3, 19, 20],\n",
              " [3, 21, 22],\n",
              " [23, 24, 25],\n",
              " [3, 26, 27, 28, 14],\n",
              " [29, 30, 31],\n",
              " [3, 23, 32, 33],\n",
              " [28, 34, 14, 29, 30],\n",
              " [19, 28, 35, 14],\n",
              " [27, 28, 34],\n",
              " [27, 28, 29, 30],\n",
              " [28, 36, 37],\n",
              " [38, 4, 2, 5],\n",
              " [2],\n",
              " [6, 39, 28, 40],\n",
              " [2, 5, 41],\n",
              " [42, 43, 44],\n",
              " [29, 30, 31, 45],\n",
              " [46, 15, 47, 48],\n",
              " [38, 4, 44, 5],\n",
              " [49, 4, 44, 5],\n",
              " [5],\n",
              " [44],\n",
              " [42, 43, 2],\n",
              " [50, 4, 51, 2, 41],\n",
              " [52, 3, 4, 51, 2],\n",
              " [38, 53, 44, 14, 54],\n",
              " [44, 54, 14],\n",
              " [44, 14, 55],\n",
              " [53, 44],\n",
              " [44, 56],\n",
              " [44, 48],\n",
              " [29, 30, 31, 14, 57, 28],\n",
              " [58, 12, 59],\n",
              " [6, 60, 61, 44],\n",
              " [62, 44],\n",
              " [44, 63],\n",
              " [38, 53, 44, 33],\n",
              " [44, 64, 65],\n",
              " [3, 44, 66, 67],\n",
              " [29, 30, 44],\n",
              " [39, 68, 69, 2],\n",
              " [39, 29, 69, 2],\n",
              " [39, 2],\n",
              " [39, 70, 69, 2],\n",
              " [3, 12, 31, 22, 29, 30],\n",
              " [3, 12, 31, 22, 29, 30, 71],\n",
              " [3, 12, 31, 22, 29, 30, 27, 28],\n",
              " [3, 12, 31, 59, 29, 30],\n",
              " [3, 12, 31, 59, 29, 30, 71],\n",
              " [3, 12, 31, 59, 29, 30, 27, 28],\n",
              " [72, 19, 20, 22],\n",
              " [3, 12, 31, 73, 74],\n",
              " [3, 12, 26, 75, 76, 77],\n",
              " [3, 4, 72, 31, 78, 79],\n",
              " [80, 81, 12, 29, 30, 82, 14],\n",
              " [3, 1, 2, 83],\n",
              " [84, 12, 29, 30],\n",
              " [85, 86, 87],\n",
              " [80, 72, 82, 14, 33],\n",
              " [88, 6, 39, 71],\n",
              " [88, 89, 27, 14],\n",
              " [90, 58, 91, 92, 14, 50, 12, 82],\n",
              " [50, 11, 26, 11, 2],\n",
              " [6, 39, 2, 33],\n",
              " [72, 94, 26, 2],\n",
              " [6, 95, 2, 11, 96, 97],\n",
              " [50, 58, 12, 29, 30, 22],\n",
              " [50, 58, 12, 29, 30, 59],\n",
              " [38, 98, 11, 71, 20],\n",
              " [3, 99, 27, 100],\n",
              " [3, 101, 68, 30, 12, 14],\n",
              " [3, 94, 33, 14],\n",
              " [3, 15, 102, 29, 30, 31],\n",
              " [84, 14],\n",
              " [3, 12, 84, 59],\n",
              " [39, 103, 59],\n",
              " [6, 39, 44, 104, 105],\n",
              " [106, 44, 107],\n",
              " [106, 44],\n",
              " [108, 43, 44],\n",
              " [109, 6, 39, 2],\n",
              " [53, 28, 40],\n",
              " [58, 27, 28, 34, 14],\n",
              " [58, 71, 20],\n",
              " [73, 74, 28, 14],\n",
              " [71, 14],\n",
              " [57, 100, 14],\n",
              " [58, 29, 30, 12],\n",
              " [58, 33, 12],\n",
              " [58, 59, 12],\n",
              " [3, 110, 12, 111, 14]]"
            ]
          },
          "metadata": {},
          "execution_count": 77
        }
      ]
    },
    {
      "cell_type": "code",
      "source": [
        "import tensorflow as tf"
      ],
      "metadata": {
        "id": "8RC22J6EHG5V"
      },
      "execution_count": null,
      "outputs": []
    },
    {
      "cell_type": "code",
      "source": [
        "padded_data = tf.keras.preprocessing.sequence.pad_sequences(trainData, maxlen=16, padding='post')"
      ],
      "metadata": {
        "id": "wo0Hjmje9trx"
      },
      "execution_count": null,
      "outputs": []
    },
    {
      "cell_type": "code",
      "source": [
        "padded_data"
      ],
      "metadata": {
        "colab": {
          "base_uri": "https://localhost:8080/"
        },
        "id": "CjgUjNR5HVwU",
        "outputId": "fb3c1aab-1435-4593-8612-5df3afe75638"
      },
      "execution_count": null,
      "outputs": [
        {
          "output_type": "execute_result",
          "data": {
            "text/plain": [
              "array([[  1,   2,   0, ...,   0,   0,   0],\n",
              "       [  3,   1,   2, ...,   0,   0,   0],\n",
              "       [  4,   2,   5, ...,   0,   0,   0],\n",
              "       ...,\n",
              "       [ 58,  33,  12, ...,   0,   0,   0],\n",
              "       [ 58,  59,  12, ...,   0,   0,   0],\n",
              "       [  3, 110,  12, ...,   0,   0,   0]], dtype=int32)"
            ]
          },
          "metadata": {},
          "execution_count": 79
        }
      ]
    },
    {
      "cell_type": "code",
      "source": [
        "from sklearn.preprocessing import MinMaxScaler\n",
        "scaler = MinMaxScaler(feature_range=(1,110))\n",
        "scaled_data = scaler.fit_transform(padded_data)"
      ],
      "metadata": {
        "id": "0axVFiWrHXzh"
      },
      "execution_count": null,
      "outputs": []
    },
    {
      "cell_type": "code",
      "source": [
        "scaled_data"
      ],
      "metadata": {
        "id": "RAdVnwO7H7IN",
        "outputId": "3be29637-f09f-4c61-9755-fee0ccf46b6c",
        "colab": {
          "base_uri": "https://localhost:8080/"
        }
      },
      "execution_count": null,
      "outputs": [
        {
          "output_type": "execute_result",
          "data": {
            "text/plain": [
              "array([[  1.        ,   2.98181818,   1.        , ...,   1.        ,\n",
              "          1.        ,   1.        ],\n",
              "       [  3.01851852,   1.99090909,   3.03738318, ...,   1.        ,\n",
              "          1.        ,   1.        ],\n",
              "       [  4.02777778,   2.98181818,   6.09345794, ...,   1.        ,\n",
              "          1.        ,   1.        ],\n",
              "       ...,\n",
              "       [ 58.52777778,  33.7       ,  13.22429907, ...,   1.        ,\n",
              "          1.        ,   1.        ],\n",
              "       [ 58.52777778,  59.46363636,  13.22429907, ...,   1.        ,\n",
              "          1.        ,   1.        ],\n",
              "       [  3.01851852, 110.        ,  13.22429907, ...,   1.        ,\n",
              "          1.        ,   1.        ]])"
            ]
          },
          "metadata": {},
          "execution_count": 99
        }
      ]
    },
    {
      "cell_type": "code",
      "source": [
        "from sklearn.model_selection import train_test_split\n",
        "\n",
        "Xtr, Xte, Ytr, Yte = train_test_split(scaled_data, labels, test_size = 0.2)"
      ],
      "metadata": {
        "id": "_Gc1A5CNH8bD"
      },
      "execution_count": null,
      "outputs": []
    },
    {
      "cell_type": "code",
      "source": [
        "Xtr.shape"
      ],
      "metadata": {
        "colab": {
          "base_uri": "https://localhost:8080/"
        },
        "id": "vg69kbes4UxV",
        "outputId": "4980faee-6683-43d0-833c-fbe46afb8372"
      },
      "execution_count": null,
      "outputs": [
        {
          "output_type": "execute_result",
          "data": {
            "text/plain": [
              "(80, 16)"
            ]
          },
          "metadata": {},
          "execution_count": 83
        }
      ]
    },
    {
      "cell_type": "code",
      "source": [
        "Xtr"
      ],
      "metadata": {
        "colab": {
          "base_uri": "https://localhost:8080/"
        },
        "id": "gUvQeOvf4ihZ",
        "outputId": "c12e3d97-27ba-4119-f193-2367c0b9961a"
      },
      "execution_count": null,
      "outputs": [
        {
          "output_type": "execute_result",
          "data": {
            "text/plain": [
              "array([[ 42.37962963,  43.60909091,   3.03738318, ...,   1.        ,\n",
              "          1.        ,   1.        ],\n",
              "       [  3.01851852,  44.6       ,  68.23364486, ...,   1.        ,\n",
              "          1.        ,   1.        ],\n",
              "       [ 23.2037037 ,  24.78181818,  26.46728972, ...,   1.        ,\n",
              "          1.        ,   1.        ],\n",
              "       ...,\n",
              "       [ 57.51851852, 100.09090909,  15.26168224, ...,   1.        ,\n",
              "          1.        ,   1.        ],\n",
              "       [  3.01851852, 101.08181818,  70.27102804, ...,   1.        ,\n",
              "          1.        ,   1.        ],\n",
              "       [ 44.39814815,  56.49090909,   1.        , ...,   1.        ,\n",
              "          1.        ,   1.        ]])"
            ]
          },
          "metadata": {},
          "execution_count": 101
        }
      ]
    },
    {
      "cell_type": "code",
      "source": [
        "Ytr.shape"
      ],
      "metadata": {
        "colab": {
          "base_uri": "https://localhost:8080/"
        },
        "id": "2YKl4awK4ncX",
        "outputId": "056efdfe-d339-434b-9f2c-67a136a11dc4"
      },
      "execution_count": null,
      "outputs": [
        {
          "output_type": "execute_result",
          "data": {
            "text/plain": [
              "(80,)"
            ]
          },
          "metadata": {},
          "execution_count": 30
        }
      ]
    },
    {
      "cell_type": "code",
      "source": [
        "from tensorflow.keras import Sequential\n",
        "from tensorflow.keras.layers import LSTM, Dense, Bidirectional, Flatten, Embedding, Dropout, Input, SimpleRNN\n",
        "from tensorflow.keras.optimizers import Adam, SGD"
      ],
      "metadata": {
        "id": "sXfaXPyr4s3k"
      },
      "execution_count": null,
      "outputs": []
    },
    {
      "cell_type": "code",
      "source": [
        "model = Sequential([\n",
        "              #  LSTM(128, input_shape=(1,5,10), activation=\"tanh\"), \n",
        "              LSTM(128, activation=\"tanh\", return_sequences=True),\n",
        "              LSTM(64, activation=\"tanh\", return_sequences=True),\n",
        "              LSTM(32, activation=\"tanh\"),\n",
        "              Dropout(0.2),\n",
        "              Flatten(),\n",
        "              Dense(64,activation=\"relu\"),\n",
        "              Dropout(0.2),\n",
        "              Dense(32, activation=\"relu\"),\n",
        "              Dense(3, activation=\"softmax\")\n",
        "])"
      ],
      "metadata": {
        "id": "9dD-Aqix4ZFV"
      },
      "execution_count": null,
      "outputs": []
    },
    {
      "cell_type": "code",
      "source": [
        "model.compile(loss=\"sparse_categorical_crossentropy\", optimizer=Adam(lr=0.01), metrics=['accuracy'])"
      ],
      "metadata": {
        "colab": {
          "base_uri": "https://localhost:8080/"
        },
        "id": "mMHIMM_J4wBI",
        "outputId": "c7a3baf4-99c9-49dc-98e6-3ca9dc82d692"
      },
      "execution_count": null,
      "outputs": [
        {
          "output_type": "stream",
          "name": "stderr",
          "text": [
            "/usr/local/lib/python3.7/dist-packages/keras/optimizer_v2/adam.py:105: UserWarning: The `lr` argument is deprecated, use `learning_rate` instead.\n",
            "  super(Adam, self).__init__(name, **kwargs)\n"
          ]
        }
      ]
    },
    {
      "cell_type": "code",
      "source": [
        "Xtr = np.expand_dims(Xtr, axis=-1)"
      ],
      "metadata": {
        "id": "Qw3uVhnO42L3"
      },
      "execution_count": null,
      "outputs": []
    },
    {
      "cell_type": "code",
      "source": [
        "hist = model.fit(Xtr, Ytr, epochs=50)"
      ],
      "metadata": {
        "colab": {
          "base_uri": "https://localhost:8080/"
        },
        "id": "-tW72QDj49Tg",
        "outputId": "3e4ca8e5-f74c-4800-ef76-c408b92f630d"
      },
      "execution_count": null,
      "outputs": [
        {
          "output_type": "stream",
          "name": "stdout",
          "text": [
            "Epoch 1/50\n",
            "3/3 [==============================] - 5s 28ms/step - loss: 1.0742 - accuracy: 0.5000\n",
            "Epoch 2/50\n",
            "3/3 [==============================] - 0s 27ms/step - loss: 1.0409 - accuracy: 0.5250\n",
            "Epoch 3/50\n",
            "3/3 [==============================] - 0s 27ms/step - loss: 1.1078 - accuracy: 0.4625\n",
            "Epoch 4/50\n",
            "3/3 [==============================] - 0s 32ms/step - loss: 1.0431 - accuracy: 0.5000\n",
            "Epoch 5/50\n",
            "3/3 [==============================] - 0s 28ms/step - loss: 0.9950 - accuracy: 0.5000\n",
            "Epoch 6/50\n",
            "3/3 [==============================] - 0s 26ms/step - loss: 0.9804 - accuracy: 0.4750\n",
            "Epoch 7/50\n",
            "3/3 [==============================] - 0s 29ms/step - loss: 0.9844 - accuracy: 0.5500\n",
            "Epoch 8/50\n",
            "3/3 [==============================] - 0s 27ms/step - loss: 1.0054 - accuracy: 0.5125\n",
            "Epoch 9/50\n",
            "3/3 [==============================] - 0s 27ms/step - loss: 0.9507 - accuracy: 0.5500\n",
            "Epoch 10/50\n",
            "3/3 [==============================] - 0s 28ms/step - loss: 0.9460 - accuracy: 0.5250\n",
            "Epoch 11/50\n",
            "3/3 [==============================] - 0s 27ms/step - loss: 0.9720 - accuracy: 0.5125\n",
            "Epoch 12/50\n",
            "3/3 [==============================] - 0s 28ms/step - loss: 1.0207 - accuracy: 0.5250\n",
            "Epoch 13/50\n",
            "3/3 [==============================] - 0s 31ms/step - loss: 0.9616 - accuracy: 0.4750\n",
            "Epoch 14/50\n",
            "3/3 [==============================] - 0s 28ms/step - loss: 0.9660 - accuracy: 0.4250\n",
            "Epoch 15/50\n",
            "3/3 [==============================] - 0s 27ms/step - loss: 0.9255 - accuracy: 0.5875\n",
            "Epoch 16/50\n",
            "3/3 [==============================] - 0s 28ms/step - loss: 0.9044 - accuracy: 0.5625\n",
            "Epoch 17/50\n",
            "3/3 [==============================] - 0s 26ms/step - loss: 0.9557 - accuracy: 0.5375\n",
            "Epoch 18/50\n",
            "3/3 [==============================] - 0s 28ms/step - loss: 0.8863 - accuracy: 0.6000\n",
            "Epoch 19/50\n",
            "3/3 [==============================] - 0s 27ms/step - loss: 0.9507 - accuracy: 0.5500\n",
            "Epoch 20/50\n",
            "3/3 [==============================] - 0s 32ms/step - loss: 0.9025 - accuracy: 0.6500\n",
            "Epoch 21/50\n",
            "3/3 [==============================] - 0s 27ms/step - loss: 0.8662 - accuracy: 0.6000\n",
            "Epoch 22/50\n",
            "3/3 [==============================] - 0s 27ms/step - loss: 0.8563 - accuracy: 0.6250\n",
            "Epoch 23/50\n",
            "3/3 [==============================] - 0s 27ms/step - loss: 0.8527 - accuracy: 0.6125\n",
            "Epoch 24/50\n",
            "3/3 [==============================] - 0s 28ms/step - loss: 0.8724 - accuracy: 0.6000\n",
            "Epoch 25/50\n",
            "3/3 [==============================] - 0s 31ms/step - loss: 0.8769 - accuracy: 0.5875\n",
            "Epoch 26/50\n",
            "3/3 [==============================] - 0s 29ms/step - loss: 0.8358 - accuracy: 0.6250\n",
            "Epoch 27/50\n",
            "3/3 [==============================] - 0s 31ms/step - loss: 0.9302 - accuracy: 0.5375\n",
            "Epoch 28/50\n",
            "3/3 [==============================] - 0s 29ms/step - loss: 0.8115 - accuracy: 0.6625\n",
            "Epoch 29/50\n",
            "3/3 [==============================] - 0s 28ms/step - loss: 0.8083 - accuracy: 0.6000\n",
            "Epoch 30/50\n",
            "3/3 [==============================] - 0s 27ms/step - loss: 0.8643 - accuracy: 0.6250\n",
            "Epoch 31/50\n",
            "3/3 [==============================] - 0s 29ms/step - loss: 0.8512 - accuracy: 0.6250\n",
            "Epoch 32/50\n",
            "3/3 [==============================] - 0s 29ms/step - loss: 0.8042 - accuracy: 0.5875\n",
            "Epoch 33/50\n",
            "3/3 [==============================] - 0s 27ms/step - loss: 0.8224 - accuracy: 0.5750\n",
            "Epoch 34/50\n",
            "3/3 [==============================] - 0s 25ms/step - loss: 0.8646 - accuracy: 0.6125\n",
            "Epoch 35/50\n",
            "3/3 [==============================] - 0s 25ms/step - loss: 0.8244 - accuracy: 0.6250\n",
            "Epoch 36/50\n",
            "3/3 [==============================] - 0s 29ms/step - loss: 0.8087 - accuracy: 0.6125\n",
            "Epoch 37/50\n",
            "3/3 [==============================] - 0s 29ms/step - loss: 0.8461 - accuracy: 0.6250\n",
            "Epoch 38/50\n",
            "3/3 [==============================] - 0s 27ms/step - loss: 0.7715 - accuracy: 0.6375\n",
            "Epoch 39/50\n",
            "3/3 [==============================] - 0s 28ms/step - loss: 0.7962 - accuracy: 0.6500\n",
            "Epoch 40/50\n",
            "3/3 [==============================] - 0s 27ms/step - loss: 0.7840 - accuracy: 0.6250\n",
            "Epoch 41/50\n",
            "3/3 [==============================] - 0s 28ms/step - loss: 0.8615 - accuracy: 0.6250\n",
            "Epoch 42/50\n",
            "3/3 [==============================] - 0s 28ms/step - loss: 1.0406 - accuracy: 0.5500\n",
            "Epoch 43/50\n",
            "3/3 [==============================] - 0s 29ms/step - loss: 0.9324 - accuracy: 0.5500\n",
            "Epoch 44/50\n",
            "3/3 [==============================] - 0s 27ms/step - loss: 0.9535 - accuracy: 0.5625\n",
            "Epoch 45/50\n",
            "3/3 [==============================] - 0s 29ms/step - loss: 0.9261 - accuracy: 0.5750\n",
            "Epoch 46/50\n",
            "3/3 [==============================] - 0s 26ms/step - loss: 0.9319 - accuracy: 0.6000\n",
            "Epoch 47/50\n",
            "3/3 [==============================] - 0s 31ms/step - loss: 0.8249 - accuracy: 0.6500\n",
            "Epoch 48/50\n",
            "3/3 [==============================] - 0s 27ms/step - loss: 0.8154 - accuracy: 0.6625\n",
            "Epoch 49/50\n",
            "3/3 [==============================] - 0s 24ms/step - loss: 0.8453 - accuracy: 0.6750\n",
            "Epoch 50/50\n",
            "3/3 [==============================] - 0s 27ms/step - loss: 0.7649 - accuracy: 0.6500\n"
          ]
        }
      ]
    },
    {
      "cell_type": "code",
      "source": [
        "model.evaluate(Xte, Yte)"
      ],
      "metadata": {
        "colab": {
          "base_uri": "https://localhost:8080/"
        },
        "id": "mOQhC6ol5VkJ",
        "outputId": "df4c4d92-94c5-4ae3-b4c6-936c6932f6a6"
      },
      "execution_count": null,
      "outputs": [
        {
          "output_type": "stream",
          "name": "stdout",
          "text": [
            "1/1 [==============================] - 1s 1s/step - loss: 0.5178 - accuracy: 0.7000\n"
          ]
        },
        {
          "output_type": "execute_result",
          "data": {
            "text/plain": [
              "[0.5177550315856934, 0.699999988079071]"
            ]
          },
          "metadata": {},
          "execution_count": 106
        }
      ]
    },
    {
      "cell_type": "code",
      "source": [
        "model.save('intentClassification.h5')"
      ],
      "metadata": {
        "id": "pQjoJFBOBd8w"
      },
      "execution_count": null,
      "outputs": []
    },
    {
      "cell_type": "code",
      "source": [
        "Xtr[2].shape"
      ],
      "metadata": {
        "colab": {
          "base_uri": "https://localhost:8080/"
        },
        "id": "gSYydSg76OuH",
        "outputId": "a485f16e-c632-4f88-ab05-1711c7ca95ad"
      },
      "execution_count": null,
      "outputs": [
        {
          "output_type": "execute_result",
          "data": {
            "text/plain": [
              "(16, 1)"
            ]
          },
          "metadata": {},
          "execution_count": 58
        }
      ]
    },
    {
      "cell_type": "code",
      "source": [
        "Xtr[2]"
      ],
      "metadata": {
        "colab": {
          "base_uri": "https://localhost:8080/"
        },
        "id": "_TetICUj6UDx",
        "outputId": "6cef059e-cccf-49ab-c352-c21cebaae6eb"
      },
      "execution_count": null,
      "outputs": [
        {
          "output_type": "execute_result",
          "data": {
            "text/plain": [
              "array([[0.46987952],\n",
              "       [0.09638554],\n",
              "       [0.10714286],\n",
              "       [0.05769231],\n",
              "       [0.26875   ],\n",
              "       [0.47337278],\n",
              "       [0.01273885],\n",
              "       [0.43037975],\n",
              "       [0.        ],\n",
              "       [0.        ],\n",
              "       [0.        ],\n",
              "       [0.        ],\n",
              "       [0.        ],\n",
              "       [0.        ],\n",
              "       [0.        ],\n",
              "       [0.        ]])"
            ]
          },
          "metadata": {},
          "execution_count": 59
        }
      ]
    },
    {
      "cell_type": "code",
      "source": [
        "text = \"Recommend me a place to stay\""
      ],
      "metadata": {
        "id": "-eXFRf5C7FQx"
      },
      "execution_count": null,
      "outputs": []
    },
    {
      "cell_type": "code",
      "source": [
        "def preprocess(text):\n",
        "  st = str.lower(text)\n",
        "  st = remove_stopwords(st)\n",
        "  st = lemmatize_words(st)\n",
        "  return st"
      ],
      "metadata": {
        "id": "rMroVv1B7KeY"
      },
      "execution_count": null,
      "outputs": []
    },
    {
      "cell_type": "code",
      "source": [
        "preprocess_text = preprocess(text)"
      ],
      "metadata": {
        "id": "XxjsSUsq7lBY"
      },
      "execution_count": null,
      "outputs": []
    },
    {
      "cell_type": "code",
      "source": [
        "preprocess_text = nltk.word_tokenize(preprocess_text)"
      ],
      "metadata": {
        "id": "fdMz02y99e_R"
      },
      "execution_count": null,
      "outputs": []
    },
    {
      "cell_type": "code",
      "source": [
        "sample = []\n",
        "for i in preprocess_text:\n",
        "  if i in bow:\n",
        "    a = bow.get(i)\n",
        "    print(a)\n",
        "    sample.append(a)\n",
        "  else:\n",
        "    sample.append(0)"
      ],
      "metadata": {
        "colab": {
          "base_uri": "https://localhost:8080/"
        },
        "id": "vgTX7Ngv9Wq4",
        "outputId": "028479b4-14a6-4317-cae1-56700cb92589"
      },
      "execution_count": null,
      "outputs": [
        {
          "output_type": "stream",
          "name": "stdout",
          "text": [
            "53\n",
            "28\n",
            "40\n"
          ]
        }
      ]
    },
    {
      "cell_type": "code",
      "source": [
        "sample = np.array(sample)"
      ],
      "metadata": {
        "id": "aZx046wK_Tho"
      },
      "execution_count": null,
      "outputs": []
    },
    {
      "cell_type": "code",
      "source": [
        "sample"
      ],
      "metadata": {
        "colab": {
          "base_uri": "https://localhost:8080/"
        },
        "id": "_FxcdMDh94LS",
        "outputId": "f0756bb0-3a88-4d3f-901d-9e207672d1ee"
      },
      "execution_count": null,
      "outputs": [
        {
          "output_type": "execute_result",
          "data": {
            "text/plain": [
              "array([53, 28, 40])"
            ]
          },
          "metadata": {},
          "execution_count": 245
        }
      ]
    },
    {
      "cell_type": "code",
      "source": [
        "output = model.predict(np.expand_dims(sample, axis=0))"
      ],
      "metadata": {
        "id": "_w7mz3Bs7DpX"
      },
      "execution_count": null,
      "outputs": []
    },
    {
      "cell_type": "code",
      "source": [
        "# output = model.predict(np.expand_dims(Xtr[2], axis=0))"
      ],
      "metadata": {
        "colab": {
          "base_uri": "https://localhost:8080/"
        },
        "id": "zeBprXZC5heB",
        "outputId": "de54d33c-f843-44a9-972a-2018306d53c9"
      },
      "execution_count": null,
      "outputs": [
        {
          "output_type": "stream",
          "name": "stdout",
          "text": [
            "WARNING:tensorflow:5 out of the last 6 calls to <function Model.make_predict_function.<locals>.predict_function at 0x7ff55b7ccef0> triggered tf.function retracing. Tracing is expensive and the excessive number of tracings could be due to (1) creating @tf.function repeatedly in a loop, (2) passing tensors with different shapes, (3) passing Python objects instead of tensors. For (1), please define your @tf.function outside of the loop. For (2), @tf.function has experimental_relax_shapes=True option that relaxes argument shapes that can avoid unnecessary retracing. For (3), please refer to https://www.tensorflow.org/guide/function#controlling_retracing and https://www.tensorflow.org/api_docs/python/tf/function for  more details.\n"
          ]
        }
      ]
    },
    {
      "cell_type": "code",
      "source": [
        "output"
      ],
      "metadata": {
        "colab": {
          "base_uri": "https://localhost:8080/"
        },
        "id": "mmxwAuIQ5k8H",
        "outputId": "8aaab5a1-50ab-4c7a-ae61-754a8d35ce39"
      },
      "execution_count": null,
      "outputs": [
        {
          "output_type": "execute_result",
          "data": {
            "text/plain": [
              "array([[0.07945973, 0.07769439, 0.84284586]], dtype=float32)"
            ]
          },
          "metadata": {},
          "execution_count": 248
        }
      ]
    },
    {
      "cell_type": "code",
      "source": [
        "listofclasses = [\"Hotel\", \"Flights\", \"Iterarnary\"]\n",
        "c = np.argmax(output)\n",
        "print(listofclasses[c])"
      ],
      "metadata": {
        "colab": {
          "base_uri": "https://localhost:8080/"
        },
        "id": "vcM7xE8c5pQd",
        "outputId": "c21c2257-e37e-4a43-d2e6-d995ee29ec5c"
      },
      "execution_count": null,
      "outputs": [
        {
          "output_type": "stream",
          "name": "stdout",
          "text": [
            "Iterarnary\n"
          ]
        }
      ]
    },
    {
      "cell_type": "code",
      "source": [
        "!pip install -q -U \"tensorflow-text==2.8.*\""
      ],
      "metadata": {
        "colab": {
          "base_uri": "https://localhost:8080/"
        },
        "id": "cMPewpGlMnBp",
        "outputId": "6ddde3ca-509f-44ab-9239-1a53fbee1355"
      },
      "execution_count": null,
      "outputs": [
        {
          "output_type": "stream",
          "name": "stdout",
          "text": [
            "\u001b[K     |████████████████████████████████| 4.9 MB 13.9 MB/s \n",
            "\u001b[K     |████████████████████████████████| 497.9 MB 16 kB/s \n",
            "\u001b[K     |████████████████████████████████| 462 kB 59.6 MB/s \n",
            "\u001b[K     |████████████████████████████████| 15.7 MB 1.6 MB/s \n",
            "\u001b[31mERROR: pip's dependency resolver does not currently take into account all the packages that are installed. This behaviour is the source of the following dependency conflicts.\n",
            "datascience 0.10.6 requires folium==0.2.1, but you have folium 0.8.3 which is incompatible.\n",
            "albumentations 0.1.12 requires imgaug<0.2.7,>=0.2.5, but you have imgaug 0.2.9 which is incompatible.\u001b[0m\n",
            "\u001b[?25h"
          ]
        }
      ]
    },
    {
      "cell_type": "code",
      "source": [
        "!pip install -q tf-models-official==2.7.0"
      ],
      "metadata": {
        "colab": {
          "base_uri": "https://localhost:8080/"
        },
        "id": "i6KTUKI7Mwhj",
        "outputId": "4feb3a27-865b-43bf-d581-7fa5aa912bfb"
      },
      "execution_count": null,
      "outputs": [
        {
          "output_type": "stream",
          "name": "stdout",
          "text": [
            "\u001b[K     |████████████████████████████████| 1.8 MB 13.9 MB/s \n",
            "\u001b[K     |████████████████████████████████| 596 kB 61.4 MB/s \n",
            "\u001b[K     |████████████████████████████████| 352 kB 48.1 MB/s \n",
            "\u001b[K     |████████████████████████████████| 99 kB 7.3 MB/s \n",
            "\u001b[K     |████████████████████████████████| 47.8 MB 52 kB/s \n",
            "\u001b[K     |████████████████████████████████| 237 kB 70.8 MB/s \n",
            "\u001b[K     |████████████████████████████████| 92 kB 9.3 MB/s \n",
            "\u001b[K     |████████████████████████████████| 1.1 MB 49.8 MB/s \n",
            "\u001b[K     |████████████████████████████████| 1.2 MB 61.2 MB/s \n",
            "\u001b[K     |████████████████████████████████| 43 kB 1.9 MB/s \n",
            "\u001b[?25h  Building wheel for py-cpuinfo (setup.py) ... \u001b[?25l\u001b[?25hdone\n",
            "  Building wheel for seqeval (setup.py) ... \u001b[?25l\u001b[?25hdone\n"
          ]
        }
      ]
    },
    {
      "cell_type": "code",
      "source": [
        "from official.nlp import optimization  # to create AdamW optimizer"
      ],
      "metadata": {
        "colab": {
          "base_uri": "https://localhost:8080/"
        },
        "id": "Z6zjJNwaM1iP",
        "outputId": "2bce2eb3-f7c6-4bb4-dc5b-3d80b34f09b5"
      },
      "execution_count": null,
      "outputs": [
        {
          "output_type": "stream",
          "name": "stderr",
          "text": [
            "/usr/local/lib/python3.7/dist-packages/tensorflow_addons/utils/ensure_tf_install.py:67: UserWarning: Tensorflow Addons supports using Python ops for all Tensorflow versions above or equal to 2.7.0 and strictly below 2.10.0 (nightly versions are not supported). \n",
            " The versions of TensorFlow you are currently using is 2.5.3 and is not supported. \n",
            "Some things might work, some things might not.\n",
            "If you were to encounter a bug, do not file an issue.\n",
            "If you want to make sure you're using a tested and supported configuration, either change the TensorFlow version or the TensorFlow Addons's version. \n",
            "You can find the compatibility matrix in TensorFlow Addon's readme:\n",
            "https://github.com/tensorflow/addons\n",
            "  UserWarning,\n"
          ]
        }
      ]
    },
    {
      "cell_type": "code",
      "source": [
        "!pip install -U tensorflow-text==2.5"
      ],
      "metadata": {
        "colab": {
          "base_uri": "https://localhost:8080/",
          "height": 1000
        },
        "id": "amM6F6VGD5E5",
        "outputId": "27a94323-2622-4a82-d14f-2378722d5585"
      },
      "execution_count": null,
      "outputs": [
        {
          "output_type": "stream",
          "name": "stdout",
          "text": [
            "Collecting tensorflow-text==2.5\n",
            "  Downloading tensorflow_text-2.5.0-cp37-cp37m-manylinux1_x86_64.whl (4.3 MB)\n",
            "\u001b[K     |████████████████████████████████| 4.3 MB 12.8 MB/s \n",
            "\u001b[?25hCollecting tensorflow<2.6,>=2.5.0\n",
            "  Downloading tensorflow-2.5.3-cp37-cp37m-manylinux2010_x86_64.whl (460.3 MB)\n",
            "\u001b[K     |████████████████████████████████| 460.3 MB 7.5 kB/s \n",
            "\u001b[?25hRequirement already satisfied: tensorflow-hub>=0.8.0 in /usr/local/lib/python3.7/dist-packages (from tensorflow-text==2.5) (0.12.0)\n",
            "Requirement already satisfied: astunparse~=1.6.3 in /usr/local/lib/python3.7/dist-packages (from tensorflow<2.6,>=2.5.0->tensorflow-text==2.5) (1.6.3)\n",
            "Requirement already satisfied: wheel~=0.35 in /usr/local/lib/python3.7/dist-packages (from tensorflow<2.6,>=2.5.0->tensorflow-text==2.5) (0.37.1)\n",
            "Collecting flatbuffers~=1.12.0\n",
            "  Downloading flatbuffers-1.12-py2.py3-none-any.whl (15 kB)\n",
            "Collecting wrapt~=1.12.1\n",
            "  Downloading wrapt-1.12.1.tar.gz (27 kB)\n",
            "Requirement already satisfied: six~=1.15.0 in /usr/local/lib/python3.7/dist-packages (from tensorflow<2.6,>=2.5.0->tensorflow-text==2.5) (1.15.0)\n",
            "Requirement already satisfied: protobuf>=3.9.2 in /usr/local/lib/python3.7/dist-packages (from tensorflow<2.6,>=2.5.0->tensorflow-text==2.5) (3.17.3)\n",
            "Requirement already satisfied: opt-einsum~=3.3.0 in /usr/local/lib/python3.7/dist-packages (from tensorflow<2.6,>=2.5.0->tensorflow-text==2.5) (3.3.0)\n",
            "Requirement already satisfied: h5py~=3.1.0 in /usr/local/lib/python3.7/dist-packages (from tensorflow<2.6,>=2.5.0->tensorflow-text==2.5) (3.1.0)\n",
            "Collecting tensorflow-estimator<2.6.0,>=2.5.0\n",
            "  Downloading tensorflow_estimator-2.5.0-py2.py3-none-any.whl (462 kB)\n",
            "\u001b[K     |████████████████████████████████| 462 kB 11.4 MB/s \n",
            "\u001b[?25hRequirement already satisfied: termcolor~=1.1.0 in /usr/local/lib/python3.7/dist-packages (from tensorflow<2.6,>=2.5.0->tensorflow-text==2.5) (1.1.0)\n",
            "Collecting typing-extensions~=3.7.4\n",
            "  Downloading typing_extensions-3.7.4.3-py3-none-any.whl (22 kB)\n",
            "Collecting gast==0.4.0\n",
            "  Downloading gast-0.4.0-py3-none-any.whl (9.8 kB)\n",
            "Collecting numpy~=1.19.2\n",
            "  Downloading numpy-1.19.5-cp37-cp37m-manylinux2010_x86_64.whl (14.8 MB)\n",
            "\u001b[K     |████████████████████████████████| 14.8 MB 50.6 MB/s \n",
            "\u001b[?25hCollecting absl-py~=0.10\n",
            "  Downloading absl_py-0.15.0-py3-none-any.whl (132 kB)\n",
            "\u001b[K     |████████████████████████████████| 132 kB 58.9 MB/s \n",
            "\u001b[?25hRequirement already satisfied: keras-preprocessing~=1.1.2 in /usr/local/lib/python3.7/dist-packages (from tensorflow<2.6,>=2.5.0->tensorflow-text==2.5) (1.1.2)\n",
            "Requirement already satisfied: tensorboard~=2.5 in /usr/local/lib/python3.7/dist-packages (from tensorflow<2.6,>=2.5.0->tensorflow-text==2.5) (2.8.0)\n",
            "Collecting keras-nightly~=2.5.0.dev\n",
            "  Downloading keras_nightly-2.5.0.dev2021032900-py2.py3-none-any.whl (1.2 MB)\n",
            "\u001b[K     |████████████████████████████████| 1.2 MB 52.5 MB/s \n",
            "\u001b[?25hCollecting grpcio~=1.34.0\n",
            "  Downloading grpcio-1.34.1-cp37-cp37m-manylinux2014_x86_64.whl (4.0 MB)\n",
            "\u001b[K     |████████████████████████████████| 4.0 MB 41.5 MB/s \n",
            "\u001b[?25hRequirement already satisfied: google-pasta~=0.2 in /usr/local/lib/python3.7/dist-packages (from tensorflow<2.6,>=2.5.0->tensorflow-text==2.5) (0.2.0)\n",
            "Requirement already satisfied: cached-property in /usr/local/lib/python3.7/dist-packages (from h5py~=3.1.0->tensorflow<2.6,>=2.5.0->tensorflow-text==2.5) (1.5.2)\n",
            "Requirement already satisfied: markdown>=2.6.8 in /usr/local/lib/python3.7/dist-packages (from tensorboard~=2.5->tensorflow<2.6,>=2.5.0->tensorflow-text==2.5) (3.3.7)\n",
            "Requirement already satisfied: google-auth-oauthlib<0.5,>=0.4.1 in /usr/local/lib/python3.7/dist-packages (from tensorboard~=2.5->tensorflow<2.6,>=2.5.0->tensorflow-text==2.5) (0.4.6)\n",
            "Requirement already satisfied: werkzeug>=0.11.15 in /usr/local/lib/python3.7/dist-packages (from tensorboard~=2.5->tensorflow<2.6,>=2.5.0->tensorflow-text==2.5) (1.0.1)\n",
            "Requirement already satisfied: tensorboard-data-server<0.7.0,>=0.6.0 in /usr/local/lib/python3.7/dist-packages (from tensorboard~=2.5->tensorflow<2.6,>=2.5.0->tensorflow-text==2.5) (0.6.1)\n",
            "Requirement already satisfied: tensorboard-plugin-wit>=1.6.0 in /usr/local/lib/python3.7/dist-packages (from tensorboard~=2.5->tensorflow<2.6,>=2.5.0->tensorflow-text==2.5) (1.8.1)\n",
            "Requirement already satisfied: google-auth<3,>=1.6.3 in /usr/local/lib/python3.7/dist-packages (from tensorboard~=2.5->tensorflow<2.6,>=2.5.0->tensorflow-text==2.5) (1.35.0)\n",
            "Requirement already satisfied: requests<3,>=2.21.0 in /usr/local/lib/python3.7/dist-packages (from tensorboard~=2.5->tensorflow<2.6,>=2.5.0->tensorflow-text==2.5) (2.23.0)\n",
            "Requirement already satisfied: setuptools>=41.0.0 in /usr/local/lib/python3.7/dist-packages (from tensorboard~=2.5->tensorflow<2.6,>=2.5.0->tensorflow-text==2.5) (57.4.0)\n",
            "Requirement already satisfied: cachetools<5.0,>=2.0.0 in /usr/local/lib/python3.7/dist-packages (from google-auth<3,>=1.6.3->tensorboard~=2.5->tensorflow<2.6,>=2.5.0->tensorflow-text==2.5) (4.2.4)\n",
            "Requirement already satisfied: rsa<5,>=3.1.4 in /usr/local/lib/python3.7/dist-packages (from google-auth<3,>=1.6.3->tensorboard~=2.5->tensorflow<2.6,>=2.5.0->tensorflow-text==2.5) (4.8)\n",
            "Requirement already satisfied: pyasn1-modules>=0.2.1 in /usr/local/lib/python3.7/dist-packages (from google-auth<3,>=1.6.3->tensorboard~=2.5->tensorflow<2.6,>=2.5.0->tensorflow-text==2.5) (0.2.8)\n",
            "Requirement already satisfied: requests-oauthlib>=0.7.0 in /usr/local/lib/python3.7/dist-packages (from google-auth-oauthlib<0.5,>=0.4.1->tensorboard~=2.5->tensorflow<2.6,>=2.5.0->tensorflow-text==2.5) (1.3.1)\n",
            "Requirement already satisfied: importlib-metadata>=4.4 in /usr/local/lib/python3.7/dist-packages (from markdown>=2.6.8->tensorboard~=2.5->tensorflow<2.6,>=2.5.0->tensorflow-text==2.5) (4.11.3)\n",
            "Requirement already satisfied: zipp>=0.5 in /usr/local/lib/python3.7/dist-packages (from importlib-metadata>=4.4->markdown>=2.6.8->tensorboard~=2.5->tensorflow<2.6,>=2.5.0->tensorflow-text==2.5) (3.8.0)\n",
            "Requirement already satisfied: pyasn1<0.5.0,>=0.4.6 in /usr/local/lib/python3.7/dist-packages (from pyasn1-modules>=0.2.1->google-auth<3,>=1.6.3->tensorboard~=2.5->tensorflow<2.6,>=2.5.0->tensorflow-text==2.5) (0.4.8)\n",
            "Requirement already satisfied: certifi>=2017.4.17 in /usr/local/lib/python3.7/dist-packages (from requests<3,>=2.21.0->tensorboard~=2.5->tensorflow<2.6,>=2.5.0->tensorflow-text==2.5) (2021.10.8)\n",
            "Requirement already satisfied: urllib3!=1.25.0,!=1.25.1,<1.26,>=1.21.1 in /usr/local/lib/python3.7/dist-packages (from requests<3,>=2.21.0->tensorboard~=2.5->tensorflow<2.6,>=2.5.0->tensorflow-text==2.5) (1.24.3)\n",
            "Requirement already satisfied: idna<3,>=2.5 in /usr/local/lib/python3.7/dist-packages (from requests<3,>=2.21.0->tensorboard~=2.5->tensorflow<2.6,>=2.5.0->tensorflow-text==2.5) (2.10)\n",
            "Requirement already satisfied: chardet<4,>=3.0.2 in /usr/local/lib/python3.7/dist-packages (from requests<3,>=2.21.0->tensorboard~=2.5->tensorflow<2.6,>=2.5.0->tensorflow-text==2.5) (3.0.4)\n",
            "Requirement already satisfied: oauthlib>=3.0.0 in /usr/local/lib/python3.7/dist-packages (from requests-oauthlib>=0.7.0->google-auth-oauthlib<0.5,>=0.4.1->tensorboard~=2.5->tensorflow<2.6,>=2.5.0->tensorflow-text==2.5) (3.2.0)\n",
            "Building wheels for collected packages: wrapt\n",
            "  Building wheel for wrapt (setup.py) ... \u001b[?25l\u001b[?25hdone\n",
            "  Created wheel for wrapt: filename=wrapt-1.12.1-cp37-cp37m-linux_x86_64.whl size=68721 sha256=4e9656a3f182ff5fc9460b9a9910a5b2059cb375222a327c0782941e830e5813\n",
            "  Stored in directory: /root/.cache/pip/wheels/62/76/4c/aa25851149f3f6d9785f6c869387ad82b3fd37582fa8147ac6\n",
            "Successfully built wrapt\n",
            "Installing collected packages: typing-extensions, numpy, grpcio, absl-py, wrapt, tensorflow-estimator, keras-nightly, gast, flatbuffers, tensorflow, tensorflow-text\n",
            "  Attempting uninstall: typing-extensions\n",
            "    Found existing installation: typing-extensions 4.2.0\n",
            "    Uninstalling typing-extensions-4.2.0:\n",
            "      Successfully uninstalled typing-extensions-4.2.0\n",
            "  Attempting uninstall: numpy\n",
            "    Found existing installation: numpy 1.21.6\n",
            "    Uninstalling numpy-1.21.6:\n",
            "      Successfully uninstalled numpy-1.21.6\n",
            "  Attempting uninstall: grpcio\n",
            "    Found existing installation: grpcio 1.46.1\n",
            "    Uninstalling grpcio-1.46.1:\n",
            "      Successfully uninstalled grpcio-1.46.1\n",
            "  Attempting uninstall: absl-py\n",
            "    Found existing installation: absl-py 1.0.0\n",
            "    Uninstalling absl-py-1.0.0:\n",
            "      Successfully uninstalled absl-py-1.0.0\n",
            "  Attempting uninstall: wrapt\n",
            "    Found existing installation: wrapt 1.14.1\n",
            "    Uninstalling wrapt-1.14.1:\n",
            "      Successfully uninstalled wrapt-1.14.1\n",
            "  Attempting uninstall: tensorflow-estimator\n",
            "    Found existing installation: tensorflow-estimator 2.8.0\n",
            "    Uninstalling tensorflow-estimator-2.8.0:\n",
            "      Successfully uninstalled tensorflow-estimator-2.8.0\n",
            "  Attempting uninstall: gast\n",
            "    Found existing installation: gast 0.5.3\n",
            "    Uninstalling gast-0.5.3:\n",
            "      Successfully uninstalled gast-0.5.3\n",
            "  Attempting uninstall: flatbuffers\n",
            "    Found existing installation: flatbuffers 2.0\n",
            "    Uninstalling flatbuffers-2.0:\n",
            "      Successfully uninstalled flatbuffers-2.0\n",
            "  Attempting uninstall: tensorflow\n",
            "    Found existing installation: tensorflow 2.8.0+zzzcolab20220506162203\n",
            "    Uninstalling tensorflow-2.8.0+zzzcolab20220506162203:\n",
            "      Successfully uninstalled tensorflow-2.8.0+zzzcolab20220506162203\n",
            "\u001b[31mERROR: pip's dependency resolver does not currently take into account all the packages that are installed. This behaviour is the source of the following dependency conflicts.\n",
            "xarray-einstats 0.2.2 requires numpy>=1.21, but you have numpy 1.19.5 which is incompatible.\n",
            "datascience 0.10.6 requires folium==0.2.1, but you have folium 0.8.3 which is incompatible.\n",
            "albumentations 0.1.12 requires imgaug<0.2.7,>=0.2.5, but you have imgaug 0.2.9 which is incompatible.\u001b[0m\n",
            "Successfully installed absl-py-0.15.0 flatbuffers-1.12 gast-0.4.0 grpcio-1.34.1 keras-nightly-2.5.0.dev2021032900 numpy-1.19.5 tensorflow-2.5.3 tensorflow-estimator-2.5.0 tensorflow-text-2.5.0 typing-extensions-3.7.4.3 wrapt-1.12.1\n"
          ]
        },
        {
          "output_type": "display_data",
          "data": {
            "application/vnd.colab-display-data+json": {
              "pip_warning": {
                "packages": [
                  "absl",
                  "flatbuffers",
                  "gast",
                  "grpc",
                  "keras",
                  "numpy",
                  "tensorflow",
                  "tensorflow_estimator",
                  "typing_extensions",
                  "wrapt"
                ]
              }
            }
          },
          "metadata": {}
        }
      ]
    },
    {
      "cell_type": "code",
      "source": [
        "import tensorflow_hub as hub\n",
        "import tensorflow_text as text"
      ],
      "metadata": {
        "id": "WELsG-8-Dq1n"
      },
      "execution_count": null,
      "outputs": []
    },
    {
      "cell_type": "code",
      "source": [
        "import tensorflow as tf"
      ],
      "metadata": {
        "id": "5A3jdwNyEtjI"
      },
      "execution_count": null,
      "outputs": []
    },
    {
      "cell_type": "code",
      "source": [
        "tfhub_handle_encoder = 'https://tfhub.dev/tensorflow/small_bert/bert_en_uncased_L-4_H-512_A-8/1'"
      ],
      "metadata": {
        "id": "fLcoSMAbFWC-"
      },
      "execution_count": null,
      "outputs": []
    },
    {
      "cell_type": "code",
      "source": [
        "tfhub_handle_preprocess = 'https://tfhub.dev/tensorflow/bert_en_uncased_preprocess/3'"
      ],
      "metadata": {
        "id": "Cc7su-UmFkOa"
      },
      "execution_count": null,
      "outputs": []
    },
    {
      "cell_type": "code",
      "source": [
        "bert_model = hub.KerasLayer(tfhub_handle_encoder)"
      ],
      "metadata": {
        "id": "axVl6JLkE4Gh"
      },
      "execution_count": null,
      "outputs": []
    },
    {
      "cell_type": "code",
      "source": [
        "def build_classifier_model():\n",
        "  text_input = tf.keras.layers.Input(shape=(), dtype=tf.string, name='text')\n",
        "  preprocessing_layer = hub.KerasLayer(tfhub_handle_preprocess, name='preprocessing')\n",
        "  encoder_inputs = preprocessing_layer(text_input)\n",
        "  encoder = hub.KerasLayer(tfhub_handle_encoder, trainable=True, name='BERT_encoder')\n",
        "  outputs = encoder(encoder_inputs)\n",
        "  net = outputs['pooled_output']\n",
        "  net = tf.keras.layers.Dense(16, activation=\"relu\")(net)\n",
        "  net = tf.keras.layers.Dropout(0.1)(net)\n",
        "  net = tf.keras.layers.Dense(3, activation=\"softmax\", name='classifier')(net)\n",
        "  return tf.keras.Model(text_input, net)\n"
      ],
      "metadata": {
        "id": "2M9NdKHw_yVX"
      },
      "execution_count": null,
      "outputs": []
    },
    {
      "cell_type": "code",
      "source": [
        "classifier_model = build_classifier_model()"
      ],
      "metadata": {
        "id": "dQMUhhLeEff3"
      },
      "execution_count": null,
      "outputs": []
    },
    {
      "cell_type": "code",
      "source": [
        "loss = tf.keras.losses.SparseCategoricalCrossentropy(from_logits=True)\n",
        "metrics = tf.metrics.SparseCategoricalAccuracy()"
      ],
      "metadata": {
        "id": "kLvYtdLTF-H_"
      },
      "execution_count": null,
      "outputs": []
    },
    {
      "cell_type": "code",
      "source": [
        "epochs = 5\n",
        "steps_per_epoch = 5\n",
        "num_train_steps = steps_per_epoch * epochs\n",
        "num_warmup_steps = int(0.1*num_train_steps)\n",
        "\n",
        "init_lr = 3e-5\n",
        "optimizer = optimization.create_optimizer(init_lr=init_lr,\n",
        "                                          num_train_steps=num_train_steps,\n",
        "                                          num_warmup_steps=num_warmup_steps,\n",
        "                                          optimizer_type='adamw')"
      ],
      "metadata": {
        "id": "TdXR7KxdNI5A"
      },
      "execution_count": null,
      "outputs": []
    },
    {
      "cell_type": "code",
      "source": [
        "classifier_model.compile(optimizer=optimizer,\n",
        "                         loss=loss,\n",
        "                         metrics=metrics)"
      ],
      "metadata": {
        "id": "YYSQ1HizGJKn"
      },
      "execution_count": null,
      "outputs": []
    },
    {
      "cell_type": "code",
      "source": [
        "from sklearn.model_selection import train_test_split\n",
        "\n",
        "btr, bte, bltr, blte = train_test_split(sentences, labels, test_size = 0.2)"
      ],
      "metadata": {
        "id": "pOLElmNPG9xM"
      },
      "execution_count": null,
      "outputs": []
    },
    {
      "cell_type": "code",
      "source": [
        "btr.shape"
      ],
      "metadata": {
        "colab": {
          "base_uri": "https://localhost:8080/"
        },
        "id": "VcSKCBD-IVvI",
        "outputId": "354d7470-a74f-4da7-fa23-8c8428b79a3a"
      },
      "execution_count": null,
      "outputs": [
        {
          "output_type": "execute_result",
          "data": {
            "text/plain": [
              "(80, 1)"
            ]
          },
          "metadata": {},
          "execution_count": 26
        }
      ]
    },
    {
      "cell_type": "code",
      "source": [
        "btr = np.array(btr).reshape(80,1)"
      ],
      "metadata": {
        "id": "9r1Z7a6IIpxq"
      },
      "execution_count": null,
      "outputs": []
    },
    {
      "cell_type": "code",
      "source": [
        "bltr.shape"
      ],
      "metadata": {
        "colab": {
          "base_uri": "https://localhost:8080/"
        },
        "id": "kUxSTQT-IYcA",
        "outputId": "7ad1533e-bd71-4f31-ee4e-cb3134ed0799"
      },
      "execution_count": null,
      "outputs": [
        {
          "output_type": "execute_result",
          "data": {
            "text/plain": [
              "(80,)"
            ]
          },
          "metadata": {},
          "execution_count": 25
        }
      ]
    },
    {
      "cell_type": "code",
      "source": [
        "history = classifier_model.fit(x=btr, y=bltr, epochs=10)"
      ],
      "metadata": {
        "colab": {
          "base_uri": "https://localhost:8080/"
        },
        "id": "z69M2c23Gj44",
        "outputId": "ac1beb07-c71c-440c-8a05-a2b00d2e04f5"
      },
      "execution_count": null,
      "outputs": [
        {
          "output_type": "stream",
          "name": "stdout",
          "text": [
            "Epoch 1/10\n"
          ]
        },
        {
          "output_type": "stream",
          "name": "stderr",
          "text": [
            "/usr/local/lib/python3.7/dist-packages/tensorflow/python/keras/backend.py:4930: UserWarning: \"`sparse_categorical_crossentropy` received `from_logits=True`, but the `output` argument was produced by a sigmoid or softmax activation and thus does not represent logits. Was this intended?\"\n",
            "  '\"`sparse_categorical_crossentropy` received `from_logits=True`, but '\n"
          ]
        },
        {
          "output_type": "stream",
          "name": "stdout",
          "text": [
            "3/3 [==============================] - 23s 5s/step - loss: 1.2746 - sparse_categorical_accuracy: 0.3375\n",
            "Epoch 2/10\n",
            "3/3 [==============================] - 15s 5s/step - loss: 1.0947 - sparse_categorical_accuracy: 0.3250\n",
            "Epoch 3/10\n",
            "3/3 [==============================] - 17s 5s/step - loss: 0.9727 - sparse_categorical_accuracy: 0.5875\n",
            "Epoch 4/10\n",
            "3/3 [==============================] - 17s 5s/step - loss: 0.9272 - sparse_categorical_accuracy: 0.6000\n",
            "Epoch 5/10\n",
            "3/3 [==============================] - 21s 7s/step - loss: 0.8613 - sparse_categorical_accuracy: 0.6500\n",
            "Epoch 6/10\n",
            "3/3 [==============================] - 15s 5s/step - loss: 0.7936 - sparse_categorical_accuracy: 0.7250\n",
            "Epoch 7/10\n",
            "3/3 [==============================] - 15s 5s/step - loss: 0.7694 - sparse_categorical_accuracy: 0.7250\n",
            "Epoch 8/10\n",
            "3/3 [==============================] - 15s 5s/step - loss: 0.7404 - sparse_categorical_accuracy: 0.7375\n",
            "Epoch 9/10\n",
            "3/3 [==============================] - 15s 5s/step - loss: 0.7647 - sparse_categorical_accuracy: 0.6875\n",
            "Epoch 10/10\n",
            "3/3 [==============================] - 16s 5s/step - loss: 0.7694 - sparse_categorical_accuracy: 0.7250\n"
          ]
        }
      ]
    },
    {
      "cell_type": "code",
      "source": [
        "loss, accuracy = classifier_model.evaluate(bte, blte)\n",
        "\n",
        "print(f'Loss: {loss}')\n",
        "print(f'Accuracy: {accuracy}')"
      ],
      "metadata": {
        "colab": {
          "base_uri": "https://localhost:8080/"
        },
        "id": "jT6mA-vBGtiZ",
        "outputId": "c88fbba3-05ff-4f4c-8a60-0ab423047d9c"
      },
      "execution_count": null,
      "outputs": [
        {
          "output_type": "stream",
          "name": "stdout",
          "text": [
            "WARNING:tensorflow:AutoGraph could not transform <function Model.make_test_function.<locals>.test_function at 0x7f614eb3c320> and will run it as-is.\n",
            "Please report this to the TensorFlow team. When filing the bug, set the verbosity to 10 (on Linux, `export AUTOGRAPH_VERBOSITY=10`) and attach the full output.\n",
            "Cause: closure mismatch, requested ('self', 'step_function'), but source function had ()\n",
            "To silence this warning, decorate the function with @tf.autograph.experimental.do_not_convert\n"
          ]
        },
        {
          "output_type": "stream",
          "name": "stderr",
          "text": [
            "WARNING:tensorflow:AutoGraph could not transform <function Model.make_test_function.<locals>.test_function at 0x7f614eb3c320> and will run it as-is.\n",
            "Please report this to the TensorFlow team. When filing the bug, set the verbosity to 10 (on Linux, `export AUTOGRAPH_VERBOSITY=10`) and attach the full output.\n",
            "Cause: closure mismatch, requested ('self', 'step_function'), but source function had ()\n",
            "To silence this warning, decorate the function with @tf.autograph.experimental.do_not_convert\n"
          ]
        },
        {
          "output_type": "stream",
          "name": "stdout",
          "text": [
            "WARNING: AutoGraph could not transform <function Model.make_test_function.<locals>.test_function at 0x7f614eb3c320> and will run it as-is.\n",
            "Please report this to the TensorFlow team. When filing the bug, set the verbosity to 10 (on Linux, `export AUTOGRAPH_VERBOSITY=10`) and attach the full output.\n",
            "Cause: closure mismatch, requested ('self', 'step_function'), but source function had ()\n",
            "To silence this warning, decorate the function with @tf.autograph.experimental.do_not_convert\n"
          ]
        },
        {
          "output_type": "stream",
          "name": "stderr",
          "text": [
            "/usr/local/lib/python3.7/dist-packages/tensorflow/python/keras/backend.py:4930: UserWarning: \"`sparse_categorical_crossentropy` received `from_logits=True`, but the `output` argument was produced by a sigmoid or softmax activation and thus does not represent logits. Was this intended?\"\n",
            "  '\"`sparse_categorical_crossentropy` received `from_logits=True`, but '\n"
          ]
        },
        {
          "output_type": "stream",
          "name": "stdout",
          "text": [
            "1/1 [==============================] - 3s 3s/step - loss: 0.8030 - sparse_categorical_accuracy: 0.7000\n",
            "Loss: 0.8029931783676147\n",
            "Accuracy: 0.699999988079071\n"
          ]
        }
      ]
    },
    {
      "cell_type": "code",
      "source": [
        "output = classifier_model.predict([\"Adventures in Pune\"])"
      ],
      "metadata": {
        "id": "2qOK1JhKOpd4"
      },
      "execution_count": null,
      "outputs": []
    },
    {
      "cell_type": "code",
      "source": [
        "output"
      ],
      "metadata": {
        "colab": {
          "base_uri": "https://localhost:8080/"
        },
        "id": "72JHwk8kO0Wb",
        "outputId": "001ff346-ebd9-414c-ca44-0f10802aa91e"
      },
      "execution_count": null,
      "outputs": [
        {
          "output_type": "execute_result",
          "data": {
            "text/plain": [
              "array([[0.13609387, 0.34354836, 0.5203577 ]], dtype=float32)"
            ]
          },
          "metadata": {},
          "execution_count": 94
        }
      ]
    },
    {
      "cell_type": "code",
      "source": [
        "listofclasses = [\"Hotel\", \"Flights\", \"Iterarnary\"]\n",
        "c = np.argmax(output)\n",
        "print(listofclasses[c])"
      ],
      "metadata": {
        "colab": {
          "base_uri": "https://localhost:8080/"
        },
        "id": "v4NcoMamO3Pn",
        "outputId": "21d4d5a8-1466-4fcb-dd69-cdc98dd74929"
      },
      "execution_count": null,
      "outputs": [
        {
          "output_type": "stream",
          "name": "stdout",
          "text": [
            "Iterarnary\n"
          ]
        }
      ]
    },
    {
      "cell_type": "code",
      "source": [
        "classifier_model.save('bert_model.h5')"
      ],
      "metadata": {
        "id": "KpAx4uVJPKNN"
      },
      "execution_count": null,
      "outputs": []
    }
  ]
}